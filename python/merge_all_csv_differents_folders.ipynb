{
 "cells": [
  {
   "cell_type": "code",
   "execution_count": 85,
   "metadata": {},
   "outputs": [
    {
     "name": "stdout",
     "output_type": "stream",
     "text": [
      "['C:/_DATA/AGR/CVI/as_csv/d11_20/Page1_1.csv', 'C:/_DATA/AGR/CVI/as_csv/d11_20/Page1_2.csv', 'C:/_DATA/AGR/CVI/as_csv/d11_20/Page1_3.csv', 'C:/_DATA/AGR/CVI/as_csv/d11_20/Page1_4.csv', 'C:/_DATA/AGR/CVI/as_csv/d11_20/Page1_5.csv', 'C:/_DATA/AGR/CVI/as_csv/d11_20/Page1_6.csv', 'C:/_DATA/AGR/CVI/as_csv/d21_30/Page1_1.csv', 'C:/_DATA/AGR/CVI/as_csv/d21_30/Page1_2.csv', 'C:/_DATA/AGR/CVI/as_csv/d21_30/Page1_3.csv', 'C:/_DATA/AGR/CVI/as_csv/d31_40_sf33/Page1_1.csv', 'C:/_DATA/AGR/CVI/as_csv/d31_40_sf33/Page1_2.csv', 'C:/_DATA/AGR/CVI/as_csv/d31_40_sf33/Page1_3.csv', 'C:/_DATA/AGR/CVI/as_csv/d31_40_sf33/Page1_4.csv', 'C:/_DATA/AGR/CVI/as_csv/d33/Page1_1.csv', 'C:/_DATA/AGR/CVI/as_csv/d33/Page1_2.csv', 'C:/_DATA/AGR/CVI/as_csv/d33/Page1_3.csv', 'C:/_DATA/AGR/CVI/as_csv/d33/Page1_4.csv', 'C:/_DATA/AGR/CVI/as_csv/d33/Page1_5.csv', 'C:/_DATA/AGR/CVI/as_csv/d33/Page1_6.csv', 'C:/_DATA/AGR/CVI/as_csv/d41_50/Page1_1.csv', 'C:/_DATA/AGR/CVI/as_csv/d41_50/Page1_2.csv', 'C:/_DATA/AGR/CVI/as_csv/d41_50/Page1_3.csv', 'C:/_DATA/AGR/CVI/as_csv/d51_60/Page1_1.csv', 'C:/_DATA/AGR/CVI/as_csv/d61_70/Page1_1.csv', 'C:/_DATA/AGR/CVI/as_csv/d61_70/Page1_2.csv', 'C:/_DATA/AGR/CVI/as_csv/d61_70/Page1_3.csv', 'C:/_DATA/AGR/CVI/as_csv/d61_70/Page1_4.csv', 'C:/_DATA/AGR/CVI/as_csv/d61_70/Page1_5.csv', 'C:/_DATA/AGR/CVI/as_csv/d71_80/Page1_1.csv', 'C:/_DATA/AGR/CVI/as_csv/d71_80/Page1_2.csv', 'C:/_DATA/AGR/CVI/as_csv/d81_99/Page1_1.csv', 'C:/_DATA/AGR/CVI/as_csv/d81_99/Page1_2.csv', 'C:/_DATA/AGR/CVI/as_csv/d81_99/Page1_3.csv', 'C:/_DATA/AGR/CVI/as_csv/d81_99/Page1_4.csv', 'C:/_DATA/AGR/CVI/as_csv/d81_99/Page1_5.csv', 'C:/_DATA/AGR/CVI/as_csv/d_1_10/Page1_1.csv', 'C:/_DATA/AGR/CVI/as_csv/d_1_10/Page1_2.csv']\n",
      "TYPE :  <class 'str'>\n"
     ]
    },
    {
     "ename": "JSONDecodeError",
     "evalue": "Expecting value: line 1 column 2 (char 1)",
     "output_type": "error",
     "traceback": [
      "\u001b[1;31m---------------------------------------------------------------------------\u001b[0m",
      "\u001b[1;31mJSONDecodeError\u001b[0m                           Traceback (most recent call last)",
      "Cell \u001b[1;32mIn[85], line 17\u001b[0m\n\u001b[0;32m     14\u001b[0m \u001b[39mprint\u001b[39m(list_files_)\n\u001b[0;32m     16\u001b[0m \u001b[39mprint\u001b[39m(\u001b[39m'\u001b[39m\u001b[39mTYPE : \u001b[39m\u001b[39m'\u001b[39m,\u001b[39mtype\u001b[39m(list_files_))\n\u001b[1;32m---> 17\u001b[0m res \u001b[39m=\u001b[39m json\u001b[39m.\u001b[39;49mloads(list_files_)\n\u001b[0;32m     18\u001b[0m df_res \u001b[39m=\u001b[39m pd\u001b[39m.\u001b[39mconcat(res, ignore_index\u001b[39m=\u001b[39m\u001b[39mTrue\u001b[39;00m)\n\u001b[0;32m     19\u001b[0m df_res\n",
      "File \u001b[1;32mc:\\Users\\tlecae\\Anaconda3\\envs\\global_env\\lib\\json\\__init__.py:346\u001b[0m, in \u001b[0;36mloads\u001b[1;34m(s, cls, object_hook, parse_float, parse_int, parse_constant, object_pairs_hook, **kw)\u001b[0m\n\u001b[0;32m    341\u001b[0m     s \u001b[39m=\u001b[39m s\u001b[39m.\u001b[39mdecode(detect_encoding(s), \u001b[39m'\u001b[39m\u001b[39msurrogatepass\u001b[39m\u001b[39m'\u001b[39m)\n\u001b[0;32m    343\u001b[0m \u001b[39mif\u001b[39;00m (\u001b[39mcls\u001b[39m \u001b[39mis\u001b[39;00m \u001b[39mNone\u001b[39;00m \u001b[39mand\u001b[39;00m object_hook \u001b[39mis\u001b[39;00m \u001b[39mNone\u001b[39;00m \u001b[39mand\u001b[39;00m\n\u001b[0;32m    344\u001b[0m         parse_int \u001b[39mis\u001b[39;00m \u001b[39mNone\u001b[39;00m \u001b[39mand\u001b[39;00m parse_float \u001b[39mis\u001b[39;00m \u001b[39mNone\u001b[39;00m \u001b[39mand\u001b[39;00m\n\u001b[0;32m    345\u001b[0m         parse_constant \u001b[39mis\u001b[39;00m \u001b[39mNone\u001b[39;00m \u001b[39mand\u001b[39;00m object_pairs_hook \u001b[39mis\u001b[39;00m \u001b[39mNone\u001b[39;00m \u001b[39mand\u001b[39;00m \u001b[39mnot\u001b[39;00m kw):\n\u001b[1;32m--> 346\u001b[0m     \u001b[39mreturn\u001b[39;00m _default_decoder\u001b[39m.\u001b[39;49mdecode(s)\n\u001b[0;32m    347\u001b[0m \u001b[39mif\u001b[39;00m \u001b[39mcls\u001b[39m \u001b[39mis\u001b[39;00m \u001b[39mNone\u001b[39;00m:\n\u001b[0;32m    348\u001b[0m     \u001b[39mcls\u001b[39m \u001b[39m=\u001b[39m JSONDecoder\n",
      "File \u001b[1;32mc:\\Users\\tlecae\\Anaconda3\\envs\\global_env\\lib\\json\\decoder.py:337\u001b[0m, in \u001b[0;36mJSONDecoder.decode\u001b[1;34m(self, s, _w)\u001b[0m\n\u001b[0;32m    332\u001b[0m \u001b[39mdef\u001b[39;00m \u001b[39mdecode\u001b[39m(\u001b[39mself\u001b[39m, s, _w\u001b[39m=\u001b[39mWHITESPACE\u001b[39m.\u001b[39mmatch):\n\u001b[0;32m    333\u001b[0m \u001b[39m    \u001b[39m\u001b[39m\"\"\"Return the Python representation of ``s`` (a ``str`` instance\u001b[39;00m\n\u001b[0;32m    334\u001b[0m \u001b[39m    containing a JSON document).\u001b[39;00m\n\u001b[0;32m    335\u001b[0m \n\u001b[0;32m    336\u001b[0m \u001b[39m    \"\"\"\u001b[39;00m\n\u001b[1;32m--> 337\u001b[0m     obj, end \u001b[39m=\u001b[39m \u001b[39mself\u001b[39;49m\u001b[39m.\u001b[39;49mraw_decode(s, idx\u001b[39m=\u001b[39;49m_w(s, \u001b[39m0\u001b[39;49m)\u001b[39m.\u001b[39;49mend())\n\u001b[0;32m    338\u001b[0m     end \u001b[39m=\u001b[39m _w(s, end)\u001b[39m.\u001b[39mend()\n\u001b[0;32m    339\u001b[0m     \u001b[39mif\u001b[39;00m end \u001b[39m!=\u001b[39m \u001b[39mlen\u001b[39m(s):\n",
      "File \u001b[1;32mc:\\Users\\tlecae\\Anaconda3\\envs\\global_env\\lib\\json\\decoder.py:355\u001b[0m, in \u001b[0;36mJSONDecoder.raw_decode\u001b[1;34m(self, s, idx)\u001b[0m\n\u001b[0;32m    353\u001b[0m     obj, end \u001b[39m=\u001b[39m \u001b[39mself\u001b[39m\u001b[39m.\u001b[39mscan_once(s, idx)\n\u001b[0;32m    354\u001b[0m \u001b[39mexcept\u001b[39;00m \u001b[39mStopIteration\u001b[39;00m \u001b[39mas\u001b[39;00m err:\n\u001b[1;32m--> 355\u001b[0m     \u001b[39mraise\u001b[39;00m JSONDecodeError(\u001b[39m\"\u001b[39m\u001b[39mExpecting value\u001b[39m\u001b[39m\"\u001b[39m, s, err\u001b[39m.\u001b[39mvalue) \u001b[39mfrom\u001b[39;00m \u001b[39mNone\u001b[39m\n\u001b[0;32m    356\u001b[0m \u001b[39mreturn\u001b[39;00m obj, end\n",
      "\u001b[1;31mJSONDecodeError\u001b[0m: Expecting value: line 1 column 2 (char 1)"
     ]
    }
   ],
   "source": [
    "import pandas as pd\n",
    "import pathlib\n",
    "import json\n",
    "\n",
    "data_dir = 'C:/_DATA/AGR/CVI/as_csv/'\n",
    "out_dir = '.'\n",
    "\n",
    "list_files = []\n",
    "for filename in pathlib.Path(data_dir).glob('**/*.csv'):\n",
    "    list_files.append(filename)\n",
    "    # print(filename)\n",
    "\n",
    "list_files_ = str(list_files).replace('WindowsPath(','').replace('(','').replace(')','')\n",
    "print(list_files_)\n",
    "\n",
    "print('TYPE : ',type(list_files_))\n",
    "res = json.loads(list_files_)\n",
    "df_res = pd.concat(res, ignore_index=True)\n",
    "df_res\n",
    "# df = pd.concat(map(pd.read_csv(encoding='uft-8 com'), list_files), ignore_index=True)\n",
    "# df.to_csv(pathlib.Path(out_dir) / 'combined_csv.csv', index=False)"
   ]
  },
  {
   "cell_type": "code",
   "execution_count": 58,
   "metadata": {},
   "outputs": [
    {
     "name": "stdout",
     "output_type": "stream",
     "text": [
      "**0 ['d11_20', 'd21_30', 'd31_40_sf33', 'd33', 'd41_50', 'd51_60', 'd61_70', 'd71_80', 'd81_99', 'd_1_10']\n",
      "**1 ['C:\\\\_DATA\\\\AGR\\\\CVI\\\\as_csv\\\\d11_20\\\\Page1_1.csv', 'C:\\\\_DATA\\\\AGR\\\\CVI\\\\as_csv\\\\d11_20\\\\Page1_2.csv', 'C:\\\\_DATA\\\\AGR\\\\CVI\\\\as_csv\\\\d11_20\\\\Page1_3.csv', 'C:\\\\_DATA\\\\AGR\\\\CVI\\\\as_csv\\\\d11_20\\\\Page1_4.csv', 'C:\\\\_DATA\\\\AGR\\\\CVI\\\\as_csv\\\\d11_20\\\\Page1_5.csv', 'C:\\\\_DATA\\\\AGR\\\\CVI\\\\as_csv\\\\d11_20\\\\Page1_6.csv']\n"
     ]
    },
    {
     "ename": "UnicodeDecodeError",
     "evalue": "'utf-8' codec can't decode byte 0xe9 in position 3: invalid continuation byte",
     "output_type": "error",
     "traceback": [
      "\u001b[1;31m---------------------------------------------------------------------------\u001b[0m",
      "\u001b[1;31mUnicodeDecodeError\u001b[0m                        Traceback (most recent call last)",
      "Cell \u001b[1;32mIn[58], line 31\u001b[0m\n\u001b[0;32m     29\u001b[0m     left\u001b[39m.\u001b[39mto_csv(sub_folders[folder]\u001b[39m+\u001b[39m\u001b[39m'\u001b[39m\u001b[39m.csv\u001b[39m\u001b[39m'\u001b[39m) \u001b[39m#exporting the df\u001b[39;00m\n\u001b[0;32m     30\u001b[0m data_dir \u001b[39m=\u001b[39m \u001b[39mr\u001b[39m\u001b[39m'\u001b[39m\u001b[39mC:\u001b[39m\u001b[39m\\\u001b[39m\u001b[39m_DATA\u001b[39m\u001b[39m\\\u001b[39m\u001b[39mAGR\u001b[39m\u001b[39m\\\u001b[39m\u001b[39mCVI\u001b[39m\u001b[39m\\\u001b[39m\u001b[39mas_csv\u001b[39m\u001b[39m'\u001b[39m\n\u001b[1;32m---> 31\u001b[0m combine_data(data_dir)\n",
      "Cell \u001b[1;32mIn[58], line 12\u001b[0m, in \u001b[0;36mcombine_data\u001b[1;34m(data_dir)\u001b[0m\n\u001b[0;32m     10\u001b[0m li \u001b[39m=\u001b[39m []\n\u001b[0;32m     11\u001b[0m \u001b[39mfor\u001b[39;00m filename \u001b[39min\u001b[39;00m all_files:\n\u001b[1;32m---> 12\u001b[0m     df \u001b[39m=\u001b[39m pd\u001b[39m.\u001b[39;49mread_csv(filename,on_bad_lines\u001b[39m=\u001b[39;49m\u001b[39m'\u001b[39;49m\u001b[39mskip\u001b[39;49m\u001b[39m'\u001b[39;49m,names\u001b[39m=\u001b[39;49m[\u001b[39m'\u001b[39;49m\u001b[39mTitle\u001b[39;49m\u001b[39m'\u001b[39;49m, \u001b[39m'\u001b[39;49m\u001b[39mFrequency\u001b[39;49m\u001b[39m'\u001b[39;49m])\n\u001b[0;32m     13\u001b[0m     li\u001b[39m.\u001b[39mappend(df) \u001b[39m#list li of df (each csv as 1 df at each index of li)\u001b[39;00m\n\u001b[0;32m     15\u001b[0m     \u001b[39mfor\u001b[39;00m index \u001b[39min\u001b[39;00m \u001b[39mrange\u001b[39m(\u001b[39m0\u001b[39m,\u001b[39mlen\u001b[39m(all_files)):\n",
      "File \u001b[1;32mc:\\Users\\tlecae\\Anaconda3\\envs\\global_env\\lib\\site-packages\\pandas\\util\\_decorators.py:211\u001b[0m, in \u001b[0;36mdeprecate_kwarg.<locals>._deprecate_kwarg.<locals>.wrapper\u001b[1;34m(*args, **kwargs)\u001b[0m\n\u001b[0;32m    209\u001b[0m     \u001b[39melse\u001b[39;00m:\n\u001b[0;32m    210\u001b[0m         kwargs[new_arg_name] \u001b[39m=\u001b[39m new_arg_value\n\u001b[1;32m--> 211\u001b[0m \u001b[39mreturn\u001b[39;00m func(\u001b[39m*\u001b[39margs, \u001b[39m*\u001b[39m\u001b[39m*\u001b[39mkwargs)\n",
      "File \u001b[1;32mc:\\Users\\tlecae\\Anaconda3\\envs\\global_env\\lib\\site-packages\\pandas\\util\\_decorators.py:331\u001b[0m, in \u001b[0;36mdeprecate_nonkeyword_arguments.<locals>.decorate.<locals>.wrapper\u001b[1;34m(*args, **kwargs)\u001b[0m\n\u001b[0;32m    325\u001b[0m \u001b[39mif\u001b[39;00m \u001b[39mlen\u001b[39m(args) \u001b[39m>\u001b[39m num_allow_args:\n\u001b[0;32m    326\u001b[0m     warnings\u001b[39m.\u001b[39mwarn(\n\u001b[0;32m    327\u001b[0m         msg\u001b[39m.\u001b[39mformat(arguments\u001b[39m=\u001b[39m_format_argument_list(allow_args)),\n\u001b[0;32m    328\u001b[0m         \u001b[39mFutureWarning\u001b[39;00m,\n\u001b[0;32m    329\u001b[0m         stacklevel\u001b[39m=\u001b[39mfind_stack_level(),\n\u001b[0;32m    330\u001b[0m     )\n\u001b[1;32m--> 331\u001b[0m \u001b[39mreturn\u001b[39;00m func(\u001b[39m*\u001b[39margs, \u001b[39m*\u001b[39m\u001b[39m*\u001b[39mkwargs)\n",
      "File \u001b[1;32mc:\\Users\\tlecae\\Anaconda3\\envs\\global_env\\lib\\site-packages\\pandas\\io\\parsers\\readers.py:950\u001b[0m, in \u001b[0;36mread_csv\u001b[1;34m(filepath_or_buffer, sep, delimiter, header, names, index_col, usecols, squeeze, prefix, mangle_dupe_cols, dtype, engine, converters, true_values, false_values, skipinitialspace, skiprows, skipfooter, nrows, na_values, keep_default_na, na_filter, verbose, skip_blank_lines, parse_dates, infer_datetime_format, keep_date_col, date_parser, dayfirst, cache_dates, iterator, chunksize, compression, thousands, decimal, lineterminator, quotechar, quoting, doublequote, escapechar, comment, encoding, encoding_errors, dialect, error_bad_lines, warn_bad_lines, on_bad_lines, delim_whitespace, low_memory, memory_map, float_precision, storage_options)\u001b[0m\n\u001b[0;32m    935\u001b[0m kwds_defaults \u001b[39m=\u001b[39m _refine_defaults_read(\n\u001b[0;32m    936\u001b[0m     dialect,\n\u001b[0;32m    937\u001b[0m     delimiter,\n\u001b[1;32m   (...)\u001b[0m\n\u001b[0;32m    946\u001b[0m     defaults\u001b[39m=\u001b[39m{\u001b[39m\"\u001b[39m\u001b[39mdelimiter\u001b[39m\u001b[39m\"\u001b[39m: \u001b[39m\"\u001b[39m\u001b[39m,\u001b[39m\u001b[39m\"\u001b[39m},\n\u001b[0;32m    947\u001b[0m )\n\u001b[0;32m    948\u001b[0m kwds\u001b[39m.\u001b[39mupdate(kwds_defaults)\n\u001b[1;32m--> 950\u001b[0m \u001b[39mreturn\u001b[39;00m _read(filepath_or_buffer, kwds)\n",
      "File \u001b[1;32mc:\\Users\\tlecae\\Anaconda3\\envs\\global_env\\lib\\site-packages\\pandas\\io\\parsers\\readers.py:605\u001b[0m, in \u001b[0;36m_read\u001b[1;34m(filepath_or_buffer, kwds)\u001b[0m\n\u001b[0;32m    602\u001b[0m _validate_names(kwds\u001b[39m.\u001b[39mget(\u001b[39m\"\u001b[39m\u001b[39mnames\u001b[39m\u001b[39m\"\u001b[39m, \u001b[39mNone\u001b[39;00m))\n\u001b[0;32m    604\u001b[0m \u001b[39m# Create the parser.\u001b[39;00m\n\u001b[1;32m--> 605\u001b[0m parser \u001b[39m=\u001b[39m TextFileReader(filepath_or_buffer, \u001b[39m*\u001b[39m\u001b[39m*\u001b[39mkwds)\n\u001b[0;32m    607\u001b[0m \u001b[39mif\u001b[39;00m chunksize \u001b[39mor\u001b[39;00m iterator:\n\u001b[0;32m    608\u001b[0m     \u001b[39mreturn\u001b[39;00m parser\n",
      "File \u001b[1;32mc:\\Users\\tlecae\\Anaconda3\\envs\\global_env\\lib\\site-packages\\pandas\\io\\parsers\\readers.py:1442\u001b[0m, in \u001b[0;36mTextFileReader.__init__\u001b[1;34m(self, f, engine, **kwds)\u001b[0m\n\u001b[0;32m   1439\u001b[0m     \u001b[39mself\u001b[39m\u001b[39m.\u001b[39moptions[\u001b[39m\"\u001b[39m\u001b[39mhas_index_names\u001b[39m\u001b[39m\"\u001b[39m] \u001b[39m=\u001b[39m kwds[\u001b[39m\"\u001b[39m\u001b[39mhas_index_names\u001b[39m\u001b[39m\"\u001b[39m]\n\u001b[0;32m   1441\u001b[0m \u001b[39mself\u001b[39m\u001b[39m.\u001b[39mhandles: IOHandles \u001b[39m|\u001b[39m \u001b[39mNone\u001b[39;00m \u001b[39m=\u001b[39m \u001b[39mNone\u001b[39;00m\n\u001b[1;32m-> 1442\u001b[0m \u001b[39mself\u001b[39m\u001b[39m.\u001b[39m_engine \u001b[39m=\u001b[39m \u001b[39mself\u001b[39;49m\u001b[39m.\u001b[39;49m_make_engine(f, \u001b[39mself\u001b[39;49m\u001b[39m.\u001b[39;49mengine)\n",
      "File \u001b[1;32mc:\\Users\\tlecae\\Anaconda3\\envs\\global_env\\lib\\site-packages\\pandas\\io\\parsers\\readers.py:1753\u001b[0m, in \u001b[0;36mTextFileReader._make_engine\u001b[1;34m(self, f, engine)\u001b[0m\n\u001b[0;32m   1750\u001b[0m     \u001b[39mraise\u001b[39;00m \u001b[39mValueError\u001b[39;00m(msg)\n\u001b[0;32m   1752\u001b[0m \u001b[39mtry\u001b[39;00m:\n\u001b[1;32m-> 1753\u001b[0m     \u001b[39mreturn\u001b[39;00m mapping[engine](f, \u001b[39m*\u001b[39m\u001b[39m*\u001b[39m\u001b[39mself\u001b[39m\u001b[39m.\u001b[39moptions)\n\u001b[0;32m   1754\u001b[0m \u001b[39mexcept\u001b[39;00m \u001b[39mException\u001b[39;00m:\n\u001b[0;32m   1755\u001b[0m     \u001b[39mif\u001b[39;00m \u001b[39mself\u001b[39m\u001b[39m.\u001b[39mhandles \u001b[39mis\u001b[39;00m \u001b[39mnot\u001b[39;00m \u001b[39mNone\u001b[39;00m:\n",
      "File \u001b[1;32mc:\\Users\\tlecae\\Anaconda3\\envs\\global_env\\lib\\site-packages\\pandas\\io\\parsers\\c_parser_wrapper.py:79\u001b[0m, in \u001b[0;36mCParserWrapper.__init__\u001b[1;34m(self, src, **kwds)\u001b[0m\n\u001b[0;32m     76\u001b[0m     kwds\u001b[39m.\u001b[39mpop(key, \u001b[39mNone\u001b[39;00m)\n\u001b[0;32m     78\u001b[0m kwds[\u001b[39m\"\u001b[39m\u001b[39mdtype\u001b[39m\u001b[39m\"\u001b[39m] \u001b[39m=\u001b[39m ensure_dtype_objs(kwds\u001b[39m.\u001b[39mget(\u001b[39m\"\u001b[39m\u001b[39mdtype\u001b[39m\u001b[39m\"\u001b[39m, \u001b[39mNone\u001b[39;00m))\n\u001b[1;32m---> 79\u001b[0m \u001b[39mself\u001b[39m\u001b[39m.\u001b[39m_reader \u001b[39m=\u001b[39m parsers\u001b[39m.\u001b[39mTextReader(src, \u001b[39m*\u001b[39m\u001b[39m*\u001b[39mkwds)\n\u001b[0;32m     81\u001b[0m \u001b[39mself\u001b[39m\u001b[39m.\u001b[39munnamed_cols \u001b[39m=\u001b[39m \u001b[39mself\u001b[39m\u001b[39m.\u001b[39m_reader\u001b[39m.\u001b[39munnamed_cols\n\u001b[0;32m     83\u001b[0m \u001b[39m# error: Cannot determine type of 'names'\u001b[39;00m\n",
      "File \u001b[1;32mc:\\Users\\tlecae\\Anaconda3\\envs\\global_env\\lib\\site-packages\\pandas\\_libs\\parsers.pyx:547\u001b[0m, in \u001b[0;36mpandas._libs.parsers.TextReader.__cinit__\u001b[1;34m()\u001b[0m\n",
      "File \u001b[1;32mc:\\Users\\tlecae\\Anaconda3\\envs\\global_env\\lib\\site-packages\\pandas\\_libs\\parsers.pyx:737\u001b[0m, in \u001b[0;36mpandas._libs.parsers.TextReader._get_header\u001b[1;34m()\u001b[0m\n",
      "File \u001b[1;32mc:\\Users\\tlecae\\Anaconda3\\envs\\global_env\\lib\\site-packages\\pandas\\_libs\\parsers.pyx:852\u001b[0m, in \u001b[0;36mpandas._libs.parsers.TextReader._tokenize_rows\u001b[1;34m()\u001b[0m\n",
      "File \u001b[1;32mc:\\Users\\tlecae\\Anaconda3\\envs\\global_env\\lib\\site-packages\\pandas\\_libs\\parsers.pyx:1965\u001b[0m, in \u001b[0;36mpandas._libs.parsers.raise_parser_error\u001b[1;34m()\u001b[0m\n",
      "\u001b[1;31mUnicodeDecodeError\u001b[0m: 'utf-8' codec can't decode byte 0xe9 in position 3: invalid continuation byte"
     ]
    }
   ],
   "source": [
    "def combine_data(data_dir):\n",
    "    os.chdir(data_dir)\n",
    "    sub_folders = os.listdir(data_dir) #list of sub_folders\n",
    "    print('**0',sub_folders)\n",
    "    for folder in range(0,len(sub_folders)): #loop through all sub_folders\n",
    "        path = os.path.join(data_dir, sub_folders[folder])\n",
    "        os.chdir(path)\n",
    "        all_files = glob.glob(path + \"/*.csv\") #list of all files in folder\n",
    "        print('**1',all_files)\n",
    "        li = []\n",
    "        for filename in all_files:\n",
    "            df = pd.read_csv(filename,on_bad_lines='skip',names=['Title', 'Frequency'])\n",
    "            li.append(df) #list li of df (each csv as 1 df at each index of li)\n",
    "\n",
    "            for index in range(0,len(all_files)):\n",
    "                li[index].fillna(0)\n",
    "                li[index] = li[index].groupby(['Title']).agg('sum')\n",
    "            year = []\n",
    "    for file in range(0,len(all_files)):\n",
    "        x = re.search(\"[0–5][0–9][0–5][0–9]\", all_files[file])\n",
    "        year.append(x.group()) #list of year fetched from .csv filenames\n",
    "        left = li[0]\n",
    "    for i in range(0,len(year)-1):\n",
    "        right = li[i+1]\n",
    "        result = pd.merge(left, right, on=\"Title\", how=\"outer\",suffixes=(year[i],year[i+1])) #outer merge on 2 consecutive indexes of df\n",
    "    left = result\n",
    "    #year.insert(0,'Title') \n",
    "    left.columns = year #updating column names of master df\n",
    "    left.to_csv(sub_folders[folder]+'.csv') #exporting the df\n",
    "data_dir = r'C:\\_DATA\\AGR\\CVI\\as_csv'\n",
    "combine_data(data_dir)"
   ]
  }
 ],
 "metadata": {
  "kernelspec": {
   "display_name": "global_env",
   "language": "python",
   "name": "python3"
  },
  "language_info": {
   "codemirror_mode": {
    "name": "ipython",
    "version": 3
   },
   "file_extension": ".py",
   "mimetype": "text/x-python",
   "name": "python",
   "nbconvert_exporter": "python",
   "pygments_lexer": "ipython3",
   "version": "3.10.9"
  },
  "orig_nbformat": 4,
  "vscode": {
   "interpreter": {
    "hash": "2234dc64895b09b6c5d91237214c40c3c11dc0fab1b19083eedbb3c191076fa4"
   }
  }
 },
 "nbformat": 4,
 "nbformat_minor": 2
}
