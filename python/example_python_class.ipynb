{
 "cells": [
  {
   "cell_type": "code",
   "execution_count": 2,
   "metadata": {},
   "outputs": [
    {
     "name": "stderr",
     "output_type": "stream",
     "text": [
      "C:\\Users\\tlecae\\AppData\\Local\\Temp\\ipykernel_11288\\589156665.py:8: DeprecationWarning: This function has no longer any effect, and will be removed in a future release. Starting with Shapely 2.0, equivalent speedups are always available\n",
      "  speedups.enable()\n"
     ]
    }
   ],
   "source": [
    "from shapely.geometry import Point, LineString, Polygon\n",
    "from shapely.ops import cascaded_union, polygonize\n",
    "from shapely import speedups\n",
    "\n",
    "import geopandas as gpd\n",
    "\n",
    "if speedups.available:\n",
    "    speedups.enable()\n",
    "\n",
    "class GeoSpatialData:\n",
    "    def __init__(self, geometry, attributes=None):\n",
    "        self.geometry = geometry\n",
    "        self.attributes = attributes if attributes else {}\n",
    "\n",
    "    def calculate_distance(self, other):\n",
    "        return self.geometry.distance(other.geometry)\n",
    "\n",
    "    def calculate_area(self):\n",
    "        return self.geometry.area\n",
    "\n",
    "    def buffer(self, distance):\n",
    "        buffered_geometry = self.geometry.buffer(distance)\n",
    "        return GeoSpatialData(buffered_geometry, self.attributes)\n",
    "\n",
    "    def intersection(self, other):\n",
    "        intersection_geometry = self.geometry.intersection(other.geometry)\n",
    "        return GeoSpatialData(intersection_geometry)\n",
    "\n",
    "    def union(self, other):\n",
    "        union_geometry = cascaded_union([self.geometry, other.geometry])\n",
    "        return GeoSpatialData(union_geometry)\n",
    "\n",
    "    def difference(self, other):\n",
    "        difference_geometry = self.geometry.difference(other.geometry)\n",
    "        return GeoSpatialData(difference_geometry)\n",
    "\n",
    "    def to_polygon(self):\n",
    "        if isinstance(self.geometry, Polygon):\n",
    "            return self\n",
    "        elif isinstance(self.geometry, LineString):\n",
    "            polygon = Polygon(list(self.geometry.coords))\n",
    "            return GeoSpatialData(polygon, self.attributes)\n",
    "        else:\n",
    "            raise ValueError(\"Cannot convert geometry to polygon.\")\n",
    "\n",
    "    def visualize(self):\n",
    "        import matplotlib.pyplot as plt\n",
    "\n",
    "        fig, ax = plt.subplots()\n",
    "        ax.set_aspect('equal')\n",
    "\n",
    "        if isinstance(self.geometry, Point):\n",
    "            ax.plot(self.geometry.x, self.geometry.y, 'ro')\n",
    "        elif isinstance(self.geometry, LineString):\n",
    "            x, y = self.geometry.xy\n",
    "            ax.plot(x, y, 'b-')\n",
    "        elif isinstance(self.geometry, Polygon):\n",
    "            x, y = self.geometry.exterior.xy\n",
    "            ax.fill(x, y, alpha=0.5)\n",
    "            ax.plot(x, y, 'b-')\n",
    "        else:\n",
    "            raise ValueError(\"Cannot visualize geometry.\")\n",
    "\n",
    "        plt.show()"
   ]
  },
  {
   "cell_type": "code",
   "execution_count": 3,
   "metadata": {},
   "outputs": [
    {
     "name": "stdout",
     "output_type": "stream",
     "text": [
      "{'ID_PARCEL': '47651', 'SURF_PARC': 2.91, 'CODE_CULTU': 'PPH', 'CODE_GROUP': '18', 'CULTURE_D1': None, 'CULTURE_D2': None}\n"
     ]
    }
   ],
   "source": [
    "# Read the shapefile using GeoPandas\n",
    "shapefile_path = \"C:/_DATA/AGR/RPG/2021/r27.shp\"\n",
    "gdf = gpd.read_file(shapefile_path)\n",
    "\n",
    "# Create a list to store the GeoSpatialData instances\n",
    "geospatial_data_list = []\n",
    "\n",
    "# Iterate over each feature in the GeoDataFrame\n",
    "for index, row in gdf.iterrows():\n",
    "    geometry = row.geometry\n",
    "    attributes = row.drop('geometry').to_dict()\n",
    "    \n",
    "    # Create a GeoSpatialData instance for each feature\n",
    "    geospatial_data = GeoSpatialData(geometry, attributes)\n",
    "    \n",
    "    # Add the GeoSpatialData instance to the list\n",
    "    geospatial_data_list.append(geospatial_data)\n",
    "\n",
    "# Access the attributes of the first feature\n",
    "first_feature = geospatial_data_list[0]\n",
    "print(first_feature.attributes)"
   ]
  },
  {
   "cell_type": "code",
   "execution_count": 5,
   "metadata": {},
   "outputs": [
    {
     "data": {
      "image/png": "[encoded data removed]",
      "text/plain": [
       "<Figure size 640x480 with 1 Axes>"
      ]
     },
     "metadata": {},
     "output_type": "display_data"
    }
   ],
   "source": [
    "first_feature.visualize()"
   ]
  }
 ],
 "metadata": {
  "kernelspec": {
   "display_name": "gis_2",
   "language": "python",
   "name": "python3"
  },
  "language_info": {
   "codemirror_mode": {
    "name": "ipython",
    "version": 3
   },
   "file_extension": ".py",
   "mimetype": "text/x-python",
   "name": "python",
   "nbconvert_exporter": "python",
   "pygments_lexer": "ipython3",
   "version": "3.9.16"
  },
  "orig_nbformat": 4
 },
 "nbformat": 4,
 "nbformat_minor": 2
}
