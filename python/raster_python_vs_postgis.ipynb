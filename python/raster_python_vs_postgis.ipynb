{
 "cells": [
  {
   "cell_type": "code",
   "execution_count": 12,
   "metadata": {},
   "outputs": [
    {
     "name": "stderr",
     "output_type": "stream",
     "text": [
      "c:\\Users\\tlecae\\Anaconda3\\envs\\gis_2\\lib\\site-packages\\rasterstats\\main.py:151: ShapelyDeprecationWarning: The 'type' attribute is deprecated, and will be removed in the future. You can use the 'geom_type' attribute instead.\n",
      "  if 'Point' in geom.type:\n",
      "c:\\Users\\tlecae\\Anaconda3\\envs\\gis_2\\lib\\site-packages\\rasterstats\\io.py:301: UserWarning: Setting nodata to -999; specify nodata explicitly\n",
      "  warnings.warn(\"Setting nodata to -999; specify nodata explicitly\")\n"
     ]
    }
   ],
   "source": [
    "import rasterio\n",
    "import geopandas as gpd\n",
    "from rasterstats import zonal_stats\n",
    "import logging\n",
    "\n",
    "logging.basicConfig(filename='logs.log', filemode='w', format='%(asctime)s - %(message)s', datefmt='%d-%b-%Y %H:%M:%S')\n",
    "\n",
    "logger = logging.getLogger(\"blabla\")\n",
    "logger.setLevel(logging.INFO)\n",
    "\n",
    "logger.info('---------------- START -----------------')\n",
    "# Set file paths\n",
    "parcel_file = \"C:/Users/tlecae/Desktop/gabarge/parcelles_test.shp\"  # Path to vector parcel file\n",
    "raster_file = \"C:/_DATA/OCS/OSO/OCS_2021.tif\" # Path to landcover raster file\n",
    "\n",
    "# Read vector parcels and landcover raster\n",
    "logger.info('Lecture Shapefile - start')\n",
    "parcels = gpd.read_file(parcel_file)\n",
    "logger.info('Lecture Shapefile - DONE')\n",
    "logger.info('Filtrage attributaire Shapefile - start')\n",
    "parcels =  parcels.loc[parcels['NOM_COM'] == 'Allemant']\n",
    "logger.info('Filtrage attributaire Shapefile - DONE')\n",
    "logger.info('Lecture Raster - start')\n",
    "raster = rasterio.open(raster_file)\n",
    "logger.info('Lecture Raster - DONE')\n",
    "\n",
    "transform = raster.transform\n",
    "logger.info('Zonal Stats - Start')\n",
    "# Compute zonal statistics\n",
    "stats = zonal_stats(parcels.geometry, raster.read(1), affine=transform, stats=['mean', 'median', 'max', 'min', 'sum'])\n",
    "logger.info('Zonal Stats - DONE')\n",
    "logger.info('Zonal Stats appariement dans le shapefile - start')\n",
    "# Add zonal statistics to the parcel GeoDataFrame\n",
    "parcels['mean_value'] = [s['mean'] for s in stats]\n",
    "parcels['median_value'] = [s['median'] for s in stats]\n",
    "parcels['max_value'] = [s['max'] for s in stats]\n",
    "parcels['min_value'] = [s['min'] for s in stats]\n",
    "parcels['sum_value'] = [s['sum'] for s in stats]\n",
    "logger.info('Zonal Stats appariement dans le shapefile - DONE')\n",
    "# Print the resulting GeoDataFrame with zonal statistics\n",
    "\n"
   ]
  }
 ],
 "metadata": {
  "kernelspec": {
   "display_name": "gis_2",
   "language": "python",
   "name": "python3"
  },
  "language_info": {
   "codemirror_mode": {
    "name": "ipython",
    "version": 3
   },
   "file_extension": ".py",
   "mimetype": "text/x-python",
   "name": "python",
   "nbconvert_exporter": "python",
   "pygments_lexer": "ipython3",
   "version": "3.9.16"
  },
  "orig_nbformat": 4
 },
 "nbformat": 4,
 "nbformat_minor": 2
}
